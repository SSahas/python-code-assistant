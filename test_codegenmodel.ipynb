{
  "metadata": {
    "kernelspec": {
      "language": "python",
      "display_name": "Python 3",
      "name": "python3"
    },
    "language_info": {
      "name": "python",
      "version": "3.10.13",
      "mimetype": "text/x-python",
      "codemirror_mode": {
        "name": "ipython",
        "version": 3
      },
      "pygments_lexer": "ipython3",
      "nbconvert_exporter": "python",
      "file_extension": ".py"
    },
    "kaggle": {
      "accelerator": "none",
      "dataSources": [
        {
          "sourceId": 8053372,
          "sourceType": "datasetVersion",
          "datasetId": 4749561
        }
      ],
      "dockerImageVersionId": 30684,
      "isInternetEnabled": true,
      "language": "python",
      "sourceType": "notebook",
      "isGpuEnabled": false
    },
    "colab": {
      "provenance": []
    }
  },
  "nbformat_minor": 0,
  "nbformat": 4,
  "cells": [
    {
      "cell_type": "code",
      "source": [
        "!pip install transformers peft evaluate rouge_score -Uqqq"
      ],
      "metadata": {
        "_uuid": "8f2839f25d086af736a60e9eeb907d3b93b6e0e5",
        "_cell_guid": "b1076dfc-b9ad-4769-8c92-a6c4dae69d19",
        "execution": {
          "iopub.status.busy": "2024-04-10T13:51:25.791978Z",
          "iopub.execute_input": "2024-04-10T13:51:25.792501Z",
          "iopub.status.idle": "2024-04-10T13:51:48.417922Z",
          "shell.execute_reply.started": "2024-04-10T13:51:25.792461Z",
          "shell.execute_reply": "2024-04-10T13:51:48.416019Z"
        },
        "trusted": true,
        "id": "gynZCIiT8SaG"
      },
      "execution_count": null,
      "outputs": []
    },
    {
      "cell_type": "code",
      "source": [
        "import evaluate\n",
        "rouge = evaluate.load('rouge')"
      ],
      "metadata": {
        "execution": {
          "iopub.status.busy": "2024-04-10T13:51:48.420928Z",
          "iopub.execute_input": "2024-04-10T13:51:48.421490Z",
          "iopub.status.idle": "2024-04-10T13:52:21.350518Z",
          "shell.execute_reply.started": "2024-04-10T13:51:48.421444Z",
          "shell.execute_reply": "2024-04-10T13:52:21.348589Z"
        },
        "trusted": true,
        "id": "bZgjTY6X8SaH",
        "outputId": "261f728a-8b6d-4f43-879c-ef023b6c3538",
        "colab": {
          "referenced_widgets": [
            "14f3359a30ef4e559a9134c7dceedddd"
          ]
        }
      },
      "execution_count": null,
      "outputs": [
        {
          "name": "stderr",
          "text": "2024-04-10 13:52:01.846281: E external/local_xla/xla/stream_executor/cuda/cuda_dnn.cc:9261] Unable to register cuDNN factory: Attempting to register factory for plugin cuDNN when one has already been registered\n2024-04-10 13:52:01.846503: E external/local_xla/xla/stream_executor/cuda/cuda_fft.cc:607] Unable to register cuFFT factory: Attempting to register factory for plugin cuFFT when one has already been registered\n2024-04-10 13:52:02.095786: E external/local_xla/xla/stream_executor/cuda/cuda_blas.cc:1515] Unable to register cuBLAS factory: Attempting to register factory for plugin cuBLAS when one has already been registered\n",
          "output_type": "stream"
        },
        {
          "output_type": "display_data",
          "data": {
            "text/plain": "Downloading builder script:   0%|          | 0.00/6.27k [00:00<?, ?B/s]",
            "application/vnd.jupyter.widget-view+json": {
              "version_major": 2,
              "version_minor": 0,
              "model_id": "14f3359a30ef4e559a9134c7dceedddd"
            }
          },
          "metadata": {}
        }
      ]
    },
    {
      "cell_type": "code",
      "source": [
        "import pandas as pd\n",
        "from peft import get_peft_model, PeftConfig, PeftModel\n",
        "from transformers import AutoTokenizer,AutoModel, AutoModelForCausalLM, TrainingArguments, GenerationConfig\n"
      ],
      "metadata": {
        "execution": {
          "iopub.status.busy": "2024-04-10T13:53:01.869397Z",
          "iopub.execute_input": "2024-04-10T13:53:01.869944Z",
          "iopub.status.idle": "2024-04-10T13:53:01.970707Z",
          "shell.execute_reply.started": "2024-04-10T13:53:01.869902Z",
          "shell.execute_reply": "2024-04-10T13:53:01.969139Z"
        },
        "trusted": true,
        "id": "PQhJxZBV8SaI"
      },
      "execution_count": null,
      "outputs": []
    },
    {
      "cell_type": "code",
      "source": [
        "#test_ds = pd.read_csv('/kaggle/input/tinycoder/test_dataset_python.csv')"
      ],
      "metadata": {
        "execution": {
          "iopub.status.busy": "2024-04-10T13:53:02.192117Z",
          "iopub.execute_input": "2024-04-10T13:53:02.194275Z",
          "iopub.status.idle": "2024-04-10T13:53:02.249366Z",
          "shell.execute_reply.started": "2024-04-10T13:53:02.194192Z",
          "shell.execute_reply": "2024-04-10T13:53:02.247558Z"
        },
        "trusted": true,
        "id": "jXsA1OzV8SaI"
      },
      "execution_count": null,
      "outputs": []
    },
    {
      "cell_type": "code",
      "source": [
        "config = PeftConfig.from_pretrained(\"SSahas/codegen\")\n",
        "model = AutoModelForCausalLM.from_pretrained(\"Salesforce/codegen-350M-mono\")\n",
        "model = PeftModel.from_pretrained(model, \"SSahas/codegen\")\n",
        "tokenizer = AutoTokenizer.from_pretrained(\"SSahas/codegen\")"
      ],
      "metadata": {
        "execution": {
          "iopub.status.busy": "2024-04-10T13:53:13.690796Z",
          "iopub.execute_input": "2024-04-10T13:53:13.691354Z",
          "iopub.status.idle": "2024-04-10T13:53:29.535459Z",
          "shell.execute_reply.started": "2024-04-10T13:53:13.691311Z",
          "shell.execute_reply": "2024-04-10T13:53:29.534122Z"
        },
        "trusted": true,
        "id": "4jju95-T8SaI",
        "outputId": "176f5404-51ed-4a7d-e522-4edf9fdecd50",
        "colab": {
          "referenced_widgets": [
            "a6385726dfc1434f922ad8b98872f3c5",
            "de424bb502aa459b8145dcb00e77d905",
            "eaf5ccb8cfbe4748b678f66c3b232a56",
            "9df02a421f55407383283f5a23916139",
            "e11c4e4d39b64a358f4284bc0eb56dc0",
            "f2ebadebf6bc4b0ab1b3304937adcf9c",
            "7a70cb633c97424782f2a94bfc5dc22d",
            "c7332767ccad4057946ff4b1f739f2ae",
            "2fba82c7899d453abb900e8199159d14",
            "2c5a8061a32441b58a72354283afc6ee"
          ]
        }
      },
      "execution_count": null,
      "outputs": [
        {
          "output_type": "display_data",
          "data": {
            "text/plain": "adapter_config.json:   0%|          | 0.00/642 [00:00<?, ?B/s]",
            "application/vnd.jupyter.widget-view+json": {
              "version_major": 2,
              "version_minor": 0,
              "model_id": "a6385726dfc1434f922ad8b98872f3c5"
            }
          },
          "metadata": {}
        },
        {
          "output_type": "display_data",
          "data": {
            "text/plain": "config.json:   0%|          | 0.00/999 [00:00<?, ?B/s]",
            "application/vnd.jupyter.widget-view+json": {
              "version_major": 2,
              "version_minor": 0,
              "model_id": "de424bb502aa459b8145dcb00e77d905"
            }
          },
          "metadata": {}
        },
        {
          "output_type": "display_data",
          "data": {
            "text/plain": "pytorch_model.bin:   0%|          | 0.00/797M [00:00<?, ?B/s]",
            "application/vnd.jupyter.widget-view+json": {
              "version_major": 2,
              "version_minor": 0,
              "model_id": "eaf5ccb8cfbe4748b678f66c3b232a56"
            }
          },
          "metadata": {}
        },
        {
          "name": "stderr",
          "text": "/opt/conda/lib/python3.10/site-packages/torch/_utils.py:831: UserWarning: TypedStorage is deprecated. It will be removed in the future and UntypedStorage will be the only storage class. This should only matter to you if you are using storages directly.  To access UntypedStorage directly, use tensor.untyped_storage() instead of tensor.storage()\n  return self.fget.__get__(instance, owner)()\n",
          "output_type": "stream"
        },
        {
          "output_type": "display_data",
          "data": {
            "text/plain": "adapter_model.safetensors:   0%|          | 0.00/5.25M [00:00<?, ?B/s]",
            "application/vnd.jupyter.widget-view+json": {
              "version_major": 2,
              "version_minor": 0,
              "model_id": "9df02a421f55407383283f5a23916139"
            }
          },
          "metadata": {}
        },
        {
          "output_type": "display_data",
          "data": {
            "text/plain": "tokenizer_config.json:   0%|          | 0.00/7.37k [00:00<?, ?B/s]",
            "application/vnd.jupyter.widget-view+json": {
              "version_major": 2,
              "version_minor": 0,
              "model_id": "e11c4e4d39b64a358f4284bc0eb56dc0"
            }
          },
          "metadata": {}
        },
        {
          "output_type": "display_data",
          "data": {
            "text/plain": "vocab.json:   0%|          | 0.00/798k [00:00<?, ?B/s]",
            "application/vnd.jupyter.widget-view+json": {
              "version_major": 2,
              "version_minor": 0,
              "model_id": "f2ebadebf6bc4b0ab1b3304937adcf9c"
            }
          },
          "metadata": {}
        },
        {
          "output_type": "display_data",
          "data": {
            "text/plain": "merges.txt:   0%|          | 0.00/456k [00:00<?, ?B/s]",
            "application/vnd.jupyter.widget-view+json": {
              "version_major": 2,
              "version_minor": 0,
              "model_id": "7a70cb633c97424782f2a94bfc5dc22d"
            }
          },
          "metadata": {}
        },
        {
          "output_type": "display_data",
          "data": {
            "text/plain": "tokenizer.json:   0%|          | 0.00/2.12M [00:00<?, ?B/s]",
            "application/vnd.jupyter.widget-view+json": {
              "version_major": 2,
              "version_minor": 0,
              "model_id": "c7332767ccad4057946ff4b1f739f2ae"
            }
          },
          "metadata": {}
        },
        {
          "output_type": "display_data",
          "data": {
            "text/plain": "added_tokens.json:   0%|          | 0.00/1.08k [00:00<?, ?B/s]",
            "application/vnd.jupyter.widget-view+json": {
              "version_major": 2,
              "version_minor": 0,
              "model_id": "2fba82c7899d453abb900e8199159d14"
            }
          },
          "metadata": {}
        },
        {
          "output_type": "display_data",
          "data": {
            "text/plain": "special_tokens_map.json:   0%|          | 0.00/473 [00:00<?, ?B/s]",
            "application/vnd.jupyter.widget-view+json": {
              "version_major": 2,
              "version_minor": 0,
              "model_id": "2c5a8061a32441b58a72354283afc6ee"
            }
          },
          "metadata": {}
        },
        {
          "name": "stderr",
          "text": "Special tokens have been added in the vocabulary, make sure the associated word embeddings are fine-tuned or trained.\n",
          "output_type": "stream"
        }
      ]
    },
    {
      "cell_type": "code",
      "source": [
        "def generate_code(input_text):\n",
        "\n",
        "    wrapped_text = f\"\"\"Instruction:\n",
        "    Use the Task below and the Input given to write the Response, which is a programming code that can solve the following Task:\n",
        "\n",
        "    ### Task:\n",
        "    {input_text}\n",
        "\n",
        "    ### Input:\n",
        "\n",
        "\n",
        "    ### Response:\n",
        "    \"\"\"\n",
        "\n",
        "    input_ids = tokenizer(wrapped_text, padding = True, return_tensors = \"pt\")\n",
        "\n",
        "    output = model.generate(input_ids=input_ids['input_ids'], generation_config=GenerationConfig(max_new_tokens =  256, eos_token_id = 50256, pad_token_id = 5-256))\n",
        "    output = tokenizer.decode(output[0][input_ids['input_ids'].shape[1]:], skip_special_tokens=True) #original\n",
        "\n",
        "    generated_code = output[0:output.find(\"Output\")]\n",
        "\n",
        "    return generated_code\n"
      ],
      "metadata": {
        "execution": {
          "iopub.status.busy": "2024-04-10T14:00:40.192674Z",
          "iopub.execute_input": "2024-04-10T14:00:40.193237Z",
          "iopub.status.idle": "2024-04-10T14:00:40.202844Z",
          "shell.execute_reply.started": "2024-04-10T14:00:40.193166Z",
          "shell.execute_reply": "2024-04-10T14:00:40.201511Z"
        },
        "trusted": true,
        "id": "65NpKlUN8SaI"
      },
      "execution_count": null,
      "outputs": []
    },
    {
      "cell_type": "code",
      "source": [
        "input_text = \"write a python function to generate fibonacci numbers and return them in a list\"\n",
        "code = generate_code(input_text)\n",
        "print(code)"
      ],
      "metadata": {
        "execution": {
          "iopub.status.busy": "2024-04-10T14:05:19.978768Z",
          "iopub.execute_input": "2024-04-10T14:05:19.979349Z",
          "iopub.status.idle": "2024-04-10T14:05:46.543254Z",
          "shell.execute_reply.started": "2024-04-10T14:05:19.979305Z",
          "shell.execute_reply": "2024-04-10T14:05:46.542082Z"
        },
        "trusted": true,
        "id": "gKIFWm6P8SaJ",
        "outputId": "8f03d604-51b1-47d7-b97b-36e34b2aeb46"
      },
      "execution_count": null,
      "outputs": [
        {
          "name": "stdout",
          "text": "def generate_fibonacci_numbers(n):\n    fibonacci_numbers = []\n    a, b = 0, 1\n    while a < n:\n        fibonacci_numbers.append(a)\n        a, b = b, a + b\n    return fibonacci_numbers\n\nprint(generate_fibonacci_numbers(10))\n# \n",
          "output_type": "stream"
        }
      ]
    },
    {
      "cell_type": "code",
      "source": [
        "def generate_fibonacci_numbers(n):\n",
        "    fibonacci_numbers = []\n",
        "    a, b = 0, 1\n",
        "    while a < n:\n",
        "        fibonacci_numbers.append(a)\n",
        "        a, b = b, a + b\n",
        "    return fibonacci_numbers\n",
        "\n",
        "print(generate_fibonacci_numbers(100))\n"
      ],
      "metadata": {
        "execution": {
          "iopub.status.busy": "2024-04-10T14:13:49.968051Z",
          "iopub.execute_input": "2024-04-10T14:13:49.969564Z",
          "iopub.status.idle": "2024-04-10T14:13:49.979962Z",
          "shell.execute_reply.started": "2024-04-10T14:13:49.969501Z",
          "shell.execute_reply": "2024-04-10T14:13:49.978332Z"
        },
        "trusted": true,
        "id": "ywL01wCD8SaJ",
        "outputId": "7c7e838c-54b2-441e-9b61-2751fb8be4a4"
      },
      "execution_count": null,
      "outputs": [
        {
          "name": "stdout",
          "text": "[0, 1, 1, 2, 3, 5, 8, 13, 21, 34, 55, 89]\n",
          "output_type": "stream"
        }
      ]
    },
    {
      "cell_type": "code",
      "source": [],
      "metadata": {
        "id": "nDK8Miu-8SaJ"
      },
      "execution_count": null,
      "outputs": []
    }
  ]
}